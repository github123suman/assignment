{
 "cells": [
  {
   "cell_type": "code",
   "execution_count": 2,
   "id": "fcc05337-ef66-408e-bf30-90cf0b4390fd",
   "metadata": {},
   "outputs": [],
   "source": [
    "# single line comments - "
   ]
  },
  {
   "cell_type": "code",
   "execution_count": 7,
   "id": "54039e31-9f9f-4403-a640-cc913a91d7a1",
   "metadata": {},
   "outputs": [
    {
     "data": {
      "text/plain": [
       "'this is the \\nanswer of my \\nfirst question--- multi line comments'"
      ]
     },
     "execution_count": 7,
     "metadata": {},
     "output_type": "execute_result"
    }
   ],
   "source": [
    "'''this is the \n",
    "answer of my \n",
    "first question--- multi line comments'''"
   ]
  },
  {
   "cell_type": "code",
   "execution_count": 15,
   "id": "a3651a08-3c12-45d7-8f71-737e1c1fe889",
   "metadata": {},
   "outputs": [],
   "source": [
    "#There are diffrent types of variable in python --- int, float, bool, string, list, tuple, set, dict\n",
    "#in below i am declaring & assigning some variable for example\n",
    "a=1"
   ]
  },
  {
   "cell_type": "code",
   "execution_count": 9,
   "id": "1eac21fd-47e2-4351-8572-daeadaff5e3c",
   "metadata": {},
   "outputs": [],
   "source": [
    "b=14.2"
   ]
  },
  {
   "cell_type": "code",
   "execution_count": 10,
   "id": "e5c5a290-6d5f-418b-8fec-5dab8ffb0725",
   "metadata": {},
   "outputs": [],
   "source": [
    "c=\"pwskill\""
   ]
  },
  {
   "cell_type": "code",
   "execution_count": 12,
   "id": "43a9f8ef-9030-42be-bf92-0c48d01a337c",
   "metadata": {},
   "outputs": [],
   "source": [
    "d=True"
   ]
  },
  {
   "cell_type": "code",
   "execution_count": 13,
   "id": "2ec7d1cc-6d59-44b6-9078-de86ce12fa5c",
   "metadata": {},
   "outputs": [],
   "source": [
    "e=[4,5,6,7]"
   ]
  },
  {
   "cell_type": "code",
   "execution_count": 14,
   "id": "4a8b7c25-ed79-484c-9419-cdf0050de7ef",
   "metadata": {},
   "outputs": [],
   "source": [
    "f=(5,9,7,3)"
   ]
  },
  {
   "cell_type": "code",
   "execution_count": 17,
   "id": "e0fbd8d9-4ce3-43fd-9646-5c0983469faf",
   "metadata": {},
   "outputs": [],
   "source": [
    "#answer of question no.3\n",
    "# in python we can convert one data type to another\n",
    "# like example\n",
    "c='457'"
   ]
  },
  {
   "cell_type": "code",
   "execution_count": 18,
   "id": "7600463f-7ca3-41e5-9b4b-707d22bf0044",
   "metadata": {},
   "outputs": [
    {
     "data": {
      "text/plain": [
       "str"
      ]
     },
     "execution_count": 18,
     "metadata": {},
     "output_type": "execute_result"
    }
   ],
   "source": [
    "type(c)"
   ]
  },
  {
   "cell_type": "code",
   "execution_count": 19,
   "id": "8b521d5e-9e95-44de-960a-fcfa33275da9",
   "metadata": {},
   "outputs": [],
   "source": [
    "d=int(c)"
   ]
  },
  {
   "cell_type": "code",
   "execution_count": 20,
   "id": "d073bdd6-3d89-4f98-bb03-0718a1660616",
   "metadata": {},
   "outputs": [
    {
     "data": {
      "text/plain": [
       "457"
      ]
     },
     "execution_count": 20,
     "metadata": {},
     "output_type": "execute_result"
    }
   ],
   "source": [
    "d"
   ]
  },
  {
   "cell_type": "code",
   "execution_count": 21,
   "id": "80c3491f-4a81-466a-80ef-cfb84948a845",
   "metadata": {},
   "outputs": [
    {
     "data": {
      "text/plain": [
       "int"
      ]
     },
     "execution_count": 21,
     "metadata": {},
     "output_type": "execute_result"
    }
   ],
   "source": [
    "type(d)"
   ]
  },
  {
   "cell_type": "code",
   "execution_count": 22,
   "id": "b3fd2a26-83bf-44c8-8bdd-13735518c275",
   "metadata": {},
   "outputs": [],
   "source": [
    "#answer of question no.4\n",
    "# we can execute python script by pressing shift+enter button."
   ]
  },
  {
   "cell_type": "code",
   "execution_count": 23,
   "id": "35ed4f71-b37c-4b21-8604-8734dd2fa2f0",
   "metadata": {},
   "outputs": [],
   "source": [
    "my_list=[1,2,3,4,5]"
   ]
  },
  {
   "cell_type": "code",
   "execution_count": 32,
   "id": "73f7a734-b234-4b31-a203-b40a5fcc4a75",
   "metadata": {},
   "outputs": [],
   "source": [
    "new_list=my_list[0:2:1]"
   ]
  },
  {
   "cell_type": "code",
   "execution_count": 33,
   "id": "1ec7440e-11bc-47bd-a6ce-4e5c45dc2c68",
   "metadata": {},
   "outputs": [
    {
     "data": {
      "text/plain": [
       "[2, 3]"
      ]
     },
     "execution_count": 33,
     "metadata": {},
     "output_type": "execute_result"
    }
   ],
   "source": [
    "new_list"
   ]
  },
  {
   "cell_type": "code",
   "execution_count": 36,
   "id": "35034b17-f53a-4baa-bda2-85facc9f2f5e",
   "metadata": {},
   "outputs": [],
   "source": [
    "# complex number is a combination of real & imaginary part. it is denoted in math as 4+5i\n",
    "#but in python we denote it as 4+5j\n",
    "a=4+5j"
   ]
  },
  {
   "cell_type": "code",
   "execution_count": 37,
   "id": "10fc8160-6acb-4866-8bb3-20cd0014788e",
   "metadata": {},
   "outputs": [
    {
     "data": {
      "text/plain": [
       "(4+5j)"
      ]
     },
     "execution_count": 37,
     "metadata": {},
     "output_type": "execute_result"
    }
   ],
   "source": [
    "a"
   ]
  },
  {
   "cell_type": "code",
   "execution_count": 38,
   "id": "b03f92e6-f21f-4904-a454-0cd5d932e503",
   "metadata": {},
   "outputs": [],
   "source": [
    "#answer of question no.7\n",
    "age=25"
   ]
  },
  {
   "cell_type": "code",
   "execution_count": 39,
   "id": "38d04a28-480a-480d-9caf-e87b631aa4f2",
   "metadata": {},
   "outputs": [
    {
     "data": {
      "text/plain": [
       "float"
      ]
     },
     "execution_count": 39,
     "metadata": {},
     "output_type": "execute_result"
    }
   ],
   "source": [
    "#answer of question no.8\n",
    "price=9.99\n",
    "type(price)\n"
   ]
  },
  {
   "cell_type": "code",
   "execution_count": 40,
   "id": "a443bc2d-6dd0-4d8b-988f-4a2c7adb2585",
   "metadata": {},
   "outputs": [],
   "source": [
    "name=\"suman ghosh\""
   ]
  },
  {
   "cell_type": "code",
   "execution_count": 41,
   "id": "f02afce8-d9b4-41a0-9ffc-c79c2075b07a",
   "metadata": {},
   "outputs": [
    {
     "name": "stdout",
     "output_type": "stream",
     "text": [
      "suman ghosh\n"
     ]
    }
   ],
   "source": [
    "print(name)"
   ]
  },
  {
   "cell_type": "code",
   "execution_count": 46,
   "id": "708cb6c0-1019-4b6b-be96-cc2c5592b5ef",
   "metadata": {},
   "outputs": [],
   "source": [
    "m=\"Hello, World! \""
   ]
  },
  {
   "cell_type": "code",
   "execution_count": 49,
   "id": "e2d9b193-c4ae-48d7-8f62-5874742ef94a",
   "metadata": {},
   "outputs": [],
   "source": [
    "n=m[7:12:1]"
   ]
  },
  {
   "cell_type": "code",
   "execution_count": 50,
   "id": "6dc5993d-f6a8-485a-b479-c534d8543321",
   "metadata": {},
   "outputs": [
    {
     "data": {
      "text/plain": [
       "'World'"
      ]
     },
     "execution_count": 50,
     "metadata": {},
     "output_type": "execute_result"
    }
   ],
   "source": [
    "n"
   ]
  },
  {
   "cell_type": "code",
   "execution_count": null,
   "id": "f16d2b16-f269-4e34-9de4-4e125b4e20db",
   "metadata": {},
   "outputs": [],
   "source": []
  }
 ],
 "metadata": {
  "kernelspec": {
   "display_name": "Python 3 (ipykernel)",
   "language": "python",
   "name": "python3"
  },
  "language_info": {
   "codemirror_mode": {
    "name": "ipython",
    "version": 3
   },
   "file_extension": ".py",
   "mimetype": "text/x-python",
   "name": "python",
   "nbconvert_exporter": "python",
   "pygments_lexer": "ipython3",
   "version": "3.10.8"
  }
 },
 "nbformat": 4,
 "nbformat_minor": 5
}
